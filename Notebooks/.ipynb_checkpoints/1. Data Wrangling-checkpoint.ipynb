{
 "cells": [
  {
   "cell_type": "markdown",
   "id": "46bb2565",
   "metadata": {},
   "source": [
    "# Data Wrangling\n",
    "\n",
    "This an example data source which can be used for Predictive Maintenance Model Building. It consists of the following data:\n",
    "\n",
    "<b>Machine conditions and usage:</b> The operating conditions of a machine e.g. data collected from sensors.\n",
    "\n",
    "<b>Failure history:</b> The failure history of a machine or component within the machine.\n",
    "\n",
    "<b>Maintenance history:</b> The repair history of a machine, e.g. error codes, previous maintenance activities or component replacements.\n",
    "\n",
    "<b>Machine features:</b> The features of a machine, e.g. engine size, make and model, location."
   ]
  },
  {
   "cell_type": "markdown",
   "id": "9bba56db",
   "metadata": {},
   "source": [
    "## Table of Contents:"
   ]
  },
  {
   "cell_type": "markdown",
   "id": "10fe7aba",
   "metadata": {},
   "source": [
    "### Import Libraries"
   ]
  },
  {
   "cell_type": "code",
   "execution_count": 16,
   "id": "7317770b",
   "metadata": {},
   "outputs": [],
   "source": [
    "#import libraries\n",
    "import pandas as pd\n",
    "#date\n",
    "from datetime import datetime, timedelta"
   ]
  },
  {
   "cell_type": "markdown",
   "id": "acbe9c1d",
   "metadata": {},
   "source": [
    "## 1. Data Collection"
   ]
  },
  {
   "cell_type": "code",
   "execution_count": 13,
   "id": "bec9afdd",
   "metadata": {},
   "outputs": [],
   "source": [
    "#get the data and read it \n",
    "\n",
    "#errors\n",
    "errors = pd.read_csv('../Data/PdM_errors.csv')\n",
    "\n",
    "#failures\n",
    "failures = pd.read_csv('../Data/PdM_failures.csv')\n",
    "\n",
    "#maint\n",
    "maint = pd.read_csv('../Data/PdM_maint.csv')\n",
    "\n",
    "#machines\n",
    "machines = pd.read_csv('../Data/PdM_machines.csv')\n",
    "\n",
    "#telemtry\n",
    "telemtry = pd.read_csv('../Data/PdM_telemetry.csv')"
   ]
  },
  {
   "cell_type": "markdown",
   "id": "3d69248a",
   "metadata": {},
   "source": [
    "## 2. Data Organization "
   ]
  },
  {
   "cell_type": "code",
   "execution_count": 6,
   "id": "bad04425",
   "metadata": {},
   "outputs": [
    {
     "name": "stdout",
     "output_type": "stream",
     "text": [
      "<class 'pandas.core.frame.DataFrame'>\n",
      "RangeIndex: 3919 entries, 0 to 3918\n",
      "Data columns (total 3 columns):\n",
      " #   Column     Non-Null Count  Dtype \n",
      "---  ------     --------------  ----- \n",
      " 0   datetime   3919 non-null   object\n",
      " 1   machineID  3919 non-null   int64 \n",
      " 2   errorID    3919 non-null   object\n",
      "dtypes: int64(1), object(2)\n",
      "memory usage: 92.0+ KB\n"
     ]
    }
   ],
   "source": [
    "#view first few rows\n",
    "errors.info()"
   ]
  },
  {
   "cell_type": "code",
   "execution_count": 8,
   "id": "361ffc47",
   "metadata": {},
   "outputs": [
    {
     "data": {
      "text/html": [
       "<div>\n",
       "<style scoped>\n",
       "    .dataframe tbody tr th:only-of-type {\n",
       "        vertical-align: middle;\n",
       "    }\n",
       "\n",
       "    .dataframe tbody tr th {\n",
       "        vertical-align: top;\n",
       "    }\n",
       "\n",
       "    .dataframe thead th {\n",
       "        text-align: right;\n",
       "    }\n",
       "</style>\n",
       "<table border=\"1\" class=\"dataframe\">\n",
       "  <thead>\n",
       "    <tr style=\"text-align: right;\">\n",
       "      <th></th>\n",
       "      <th>datetime</th>\n",
       "      <th>machineID</th>\n",
       "      <th>errorID</th>\n",
       "    </tr>\n",
       "  </thead>\n",
       "  <tbody>\n",
       "    <tr>\n",
       "      <th>0</th>\n",
       "      <td>2015-01-03 07:00:00</td>\n",
       "      <td>1</td>\n",
       "      <td>error1</td>\n",
       "    </tr>\n",
       "    <tr>\n",
       "      <th>1</th>\n",
       "      <td>2015-01-03 20:00:00</td>\n",
       "      <td>1</td>\n",
       "      <td>error3</td>\n",
       "    </tr>\n",
       "    <tr>\n",
       "      <th>2</th>\n",
       "      <td>2015-01-04 06:00:00</td>\n",
       "      <td>1</td>\n",
       "      <td>error5</td>\n",
       "    </tr>\n",
       "    <tr>\n",
       "      <th>3</th>\n",
       "      <td>2015-01-10 15:00:00</td>\n",
       "      <td>1</td>\n",
       "      <td>error4</td>\n",
       "    </tr>\n",
       "    <tr>\n",
       "      <th>4</th>\n",
       "      <td>2015-01-22 10:00:00</td>\n",
       "      <td>1</td>\n",
       "      <td>error4</td>\n",
       "    </tr>\n",
       "  </tbody>\n",
       "</table>\n",
       "</div>"
      ],
      "text/plain": [
       "              datetime  machineID errorID\n",
       "0  2015-01-03 07:00:00          1  error1\n",
       "1  2015-01-03 20:00:00          1  error3\n",
       "2  2015-01-04 06:00:00          1  error5\n",
       "3  2015-01-10 15:00:00          1  error4\n",
       "4  2015-01-22 10:00:00          1  error4"
      ]
     },
     "execution_count": 8,
     "metadata": {},
     "output_type": "execute_result"
    }
   ],
   "source": [
    "errors.head()"
   ]
  },
  {
   "cell_type": "code",
   "execution_count": 36,
   "id": "cbdfc0e6",
   "metadata": {},
   "outputs": [
    {
     "data": {
      "text/plain": [
       "count                             3919\n",
       "mean     2015-07-01 03:34:18.586374144\n",
       "min                2015-01-01 06:00:00\n",
       "25%                2015-03-31 05:00:00\n",
       "50%                2015-07-01 06:00:00\n",
       "75%                2015-10-01 15:00:00\n",
       "max                2016-01-01 05:00:00\n",
       "Name: datetime, dtype: object"
      ]
     },
     "execution_count": 36,
     "metadata": {},
     "output_type": "execute_result"
    }
   ],
   "source": [
    "#check duration\n",
    "errors.datetime.describe(datetime_is_numeric=True)"
   ]
  },
  {
   "cell_type": "markdown",
   "id": "88dc235b",
   "metadata": {},
   "source": [
    "The duration is between January 1, 2015 and January 1, 2016."
   ]
  },
  {
   "cell_type": "markdown",
   "id": "9aaae310",
   "metadata": {},
   "source": [
    "### Convert to datetime"
   ]
  },
  {
   "cell_type": "markdown",
   "id": "871fa23a",
   "metadata": {},
   "source": [
    "This data represents error logs. These are non-breaking errors thrown while the machine is still operational and do not constitute as failures. The error date and times are rounded to the closest hour since the telemetry data is collected at an hourly rate."
   ]
  },
  {
   "cell_type": "code",
   "execution_count": 22,
   "id": "1034104e",
   "metadata": {},
   "outputs": [
    {
     "name": "stdout",
     "output_type": "stream",
     "text": [
      "<class 'pandas.core.frame.DataFrame'>\n",
      "RangeIndex: 3919 entries, 0 to 3918\n",
      "Data columns (total 3 columns):\n",
      " #   Column     Non-Null Count  Dtype         \n",
      "---  ------     --------------  -----         \n",
      " 0   datetime   3919 non-null   datetime64[ns]\n",
      " 1   machineID  3919 non-null   int64         \n",
      " 2   errorID    3919 non-null   object        \n",
      "dtypes: datetime64[ns](1), int64(1), object(1)\n",
      "memory usage: 92.0+ KB\n"
     ]
    }
   ],
   "source": [
    "errors[\"datetime\"] = pd.to_datetime(errors[\"datetime\"], format=\"%Y/%m/%d %H:%M:%S\")\n",
    "\n",
    "errors.info()"
   ]
  },
  {
   "cell_type": "code",
   "execution_count": 24,
   "id": "af7f3ef4",
   "metadata": {},
   "outputs": [],
   "source": [
    "failures[\"datetime\"] = pd.to_datetime(failures[\"datetime\"], format=\"%Y/%m/%d %H:%M:%S\")\n",
    "\n",
    "maint[\"datetime\"] = pd.to_datetime(maint[\"datetime\"], format=\"%Y/%m/%d %H:%M:%S\")\n",
    "\n",
    "telemtry[\"datetime\"] = pd.to_datetime(telemtry[\"datetime\"], format=\"%Y/%m/%d %H:%M:%S\")"
   ]
  },
  {
   "cell_type": "markdown",
   "id": "3a80b2df",
   "metadata": {},
   "source": [
    "These are the records of component replacements due to failures. Each record has a date and time, machine ID, and failed component type."
   ]
  },
  {
   "cell_type": "code",
   "execution_count": 25,
   "id": "a0a34a74",
   "metadata": {},
   "outputs": [
    {
     "name": "stdout",
     "output_type": "stream",
     "text": [
      "<class 'pandas.core.frame.DataFrame'>\n",
      "RangeIndex: 761 entries, 0 to 760\n",
      "Data columns (total 3 columns):\n",
      " #   Column     Non-Null Count  Dtype         \n",
      "---  ------     --------------  -----         \n",
      " 0   datetime   761 non-null    datetime64[ns]\n",
      " 1   machineID  761 non-null    int64         \n",
      " 2   failure    761 non-null    object        \n",
      "dtypes: datetime64[ns](1), int64(1), object(1)\n",
      "memory usage: 18.0+ KB\n"
     ]
    }
   ],
   "source": [
    "#Check info\n",
    "failures.info()"
   ]
  },
  {
   "cell_type": "markdown",
   "id": "b21bf618",
   "metadata": {},
   "source": [
    "These are the scheduled and unscheduled maintenance records which correspond to both regular inspection of components as well as failures. A record is generated if a component is replaced during the scheduled inspection or replaced due to a breakdown. The records that are created due to breakdowns will be called failures which is explained in the later sections. Maintenance data has both 2014 and 2015 records."
   ]
  },
  {
   "cell_type": "code",
   "execution_count": 26,
   "id": "e69e8363",
   "metadata": {},
   "outputs": [
    {
     "name": "stdout",
     "output_type": "stream",
     "text": [
      "<class 'pandas.core.frame.DataFrame'>\n",
      "RangeIndex: 3286 entries, 0 to 3285\n",
      "Data columns (total 3 columns):\n",
      " #   Column     Non-Null Count  Dtype         \n",
      "---  ------     --------------  -----         \n",
      " 0   datetime   3286 non-null   datetime64[ns]\n",
      " 1   machineID  3286 non-null   int64         \n",
      " 2   comp       3286 non-null   object        \n",
      "dtypes: datetime64[ns](1), int64(1), object(1)\n",
      "memory usage: 77.1+ KB\n"
     ]
    }
   ],
   "source": [
    "#Check info\n",
    "maint.info()"
   ]
  },
  {
   "cell_type": "markdown",
   "id": "642cc698",
   "metadata": {},
   "source": [
    "This data set includes meta-data about the machines: model type and age (years in service)."
   ]
  },
  {
   "cell_type": "code",
   "execution_count": 27,
   "id": "4c2d9a01",
   "metadata": {},
   "outputs": [
    {
     "name": "stdout",
     "output_type": "stream",
     "text": [
      "<class 'pandas.core.frame.DataFrame'>\n",
      "RangeIndex: 100 entries, 0 to 99\n",
      "Data columns (total 3 columns):\n",
      " #   Column     Non-Null Count  Dtype \n",
      "---  ------     --------------  ----- \n",
      " 0   machineID  100 non-null    int64 \n",
      " 1   model      100 non-null    object\n",
      " 2   age        100 non-null    int64 \n",
      "dtypes: int64(2), object(1)\n",
      "memory usage: 2.5+ KB\n"
     ]
    }
   ],
   "source": [
    "#Check info\n",
    "machines.info()"
   ]
  },
  {
   "cell_type": "markdown",
   "id": "c768bbec",
   "metadata": {},
   "source": [
    "This is a telemetry time-series data. It consists of voltage, rotation, pressure, and vibration measurements collected from 100 machines in real time averaged over every hour collected during the year 2015."
   ]
  },
  {
   "cell_type": "code",
   "execution_count": 28,
   "id": "29e62323",
   "metadata": {},
   "outputs": [
    {
     "name": "stdout",
     "output_type": "stream",
     "text": [
      "<class 'pandas.core.frame.DataFrame'>\n",
      "RangeIndex: 876100 entries, 0 to 876099\n",
      "Data columns (total 6 columns):\n",
      " #   Column     Non-Null Count   Dtype         \n",
      "---  ------     --------------   -----         \n",
      " 0   datetime   876100 non-null  datetime64[ns]\n",
      " 1   machineID  876100 non-null  int64         \n",
      " 2   volt       876100 non-null  float64       \n",
      " 3   rotate     876100 non-null  float64       \n",
      " 4   pressure   876100 non-null  float64       \n",
      " 5   vibration  876100 non-null  float64       \n",
      "dtypes: datetime64[ns](1), float64(4), int64(1)\n",
      "memory usage: 40.1 MB\n"
     ]
    }
   ],
   "source": [
    "#Check info\n",
    "telemtry.info()"
   ]
  },
  {
   "cell_type": "markdown",
   "id": "3bf27985",
   "metadata": {},
   "source": [
    "## Data Cleaning"
   ]
  },
  {
   "cell_type": "markdown",
   "id": "2f89e8d7",
   "metadata": {},
   "source": [
    "### Check for duplicates"
   ]
  },
  {
   "cell_type": "code",
   "execution_count": 32,
   "id": "3f1fa2a3",
   "metadata": {},
   "outputs": [
    {
     "name": "stdout",
     "output_type": "stream",
     "text": [
      "Empty DataFrame\n",
      "Columns: [datetime, machineID, errorID]\n",
      "Index: []\n",
      "Empty DataFrame\n",
      "Columns: [datetime, machineID, failure]\n",
      "Index: []\n",
      "Empty DataFrame\n",
      "Columns: [datetime, machineID, comp]\n",
      "Index: []\n",
      "Empty DataFrame\n",
      "Columns: [machineID, model, age]\n",
      "Index: []\n",
      "Empty DataFrame\n",
      "Columns: [datetime, machineID, volt, rotate, pressure, vibration]\n",
      "Index: []\n"
     ]
    }
   ],
   "source": [
    "print(errors[errors.duplicated()])\n",
    "\n",
    "print(failures[failures.duplicated()])\n",
    "\n",
    "print(maint[maint.duplicated()])\n",
    "\n",
    "print(machines[machines.duplicated()])\n",
    "\n",
    "print(telemtry[telemtry.duplicated()])"
   ]
  },
  {
   "cell_type": "markdown",
   "id": "c9f7ab17",
   "metadata": {},
   "source": [
    "There are no duplicates."
   ]
  },
  {
   "cell_type": "markdown",
   "id": "399baea8",
   "metadata": {},
   "source": [
    "### Check for null values"
   ]
  },
  {
   "cell_type": "code",
   "execution_count": 33,
   "id": "24b1ffc1",
   "metadata": {},
   "outputs": [
    {
     "name": "stdout",
     "output_type": "stream",
     "text": [
      "datetime     0\n",
      "machineID    0\n",
      "errorID      0\n",
      "dtype: int64\n",
      "datetime     0\n",
      "machineID    0\n",
      "failure      0\n",
      "dtype: int64\n",
      "datetime     0\n",
      "machineID    0\n",
      "comp         0\n",
      "dtype: int64\n",
      "machineID    0\n",
      "model        0\n",
      "age          0\n",
      "dtype: int64\n",
      "datetime     0\n",
      "machineID    0\n",
      "volt         0\n",
      "rotate       0\n",
      "pressure     0\n",
      "vibration    0\n",
      "dtype: int64\n"
     ]
    }
   ],
   "source": [
    "#check how many null values\n",
    "\n",
    "print(errors.isnull().sum())\n",
    "\n",
    "print(failures.isnull().sum())\n",
    "\n",
    "print(maint.isnull().sum())\n",
    "\n",
    "print(machines.isnull().sum())\n",
    "\n",
    "print(telemtry.isnull().sum())"
   ]
  },
  {
   "cell_type": "markdown",
   "id": "21446a22",
   "metadata": {},
   "source": [
    "There are no null values."
   ]
  },
  {
   "cell_type": "markdown",
   "id": "5867e0ee",
   "metadata": {},
   "source": [
    "-standardize telemetry df > and statsmodel"
   ]
  }
 ],
 "metadata": {
  "kernelspec": {
   "display_name": "Python 3 (ipykernel)",
   "language": "python",
   "name": "python3"
  },
  "language_info": {
   "codemirror_mode": {
    "name": "ipython",
    "version": 3
   },
   "file_extension": ".py",
   "mimetype": "text/x-python",
   "name": "python",
   "nbconvert_exporter": "python",
   "pygments_lexer": "ipython3",
   "version": "3.9.7"
  }
 },
 "nbformat": 4,
 "nbformat_minor": 5
}
